{
  "nbformat": 4,
  "nbformat_minor": 2,
  "metadata": {
    "colab": {
      "name": "Olympics.ipynb",
      "provenance": [],
      "collapsed_sections": []
    },
    "kernelspec": {
      "name": "python3",
      "display_name": "Python 3.8.8 64-bit ('base': conda)"
    },
    "language_info": {
      "name": "python",
      "version": "3.8.8",
      "mimetype": "text/x-python",
      "codemirror_mode": {
        "name": "ipython",
        "version": 3
      },
      "pygments_lexer": "ipython3",
      "nbconvert_exporter": "python",
      "file_extension": ".py"
    },
    "interpreter": {
      "hash": "227a5deb54e3222ee56fd31d02883ee21258a3199640b0f92a56cdc9886f423a"
    }
  },
  "cells": [
    {
      "cell_type": "markdown",
      "source": [
        "#Reading the Dataset"
      ],
      "metadata": {
        "id": "SvHNNEgwVYvR"
      }
    },
    {
      "cell_type": "code",
      "execution_count": 4,
      "source": [
        "import pandas as pd\r\n",
        "import numpy as np\r\n",
        "DataSet = pd.read_csv(\"summer.csv\")"
      ],
      "outputs": [],
      "metadata": {
        "id": "hYd7e1St89qz"
      }
    },
    {
      "cell_type": "markdown",
      "source": [
        "#### 1. In how many cities Summer Olympics is held so far?"
      ],
      "metadata": {
        "id": "5g0VCcmkVydo"
      }
    },
    {
      "cell_type": "code",
      "execution_count": 3,
      "source": [
        "cities = DataSet['City'].unique()\r\n",
        "\r\n",
        "print(\"The Number of cities in which Summer Olympics are held is:\", len(cities))"
      ],
      "outputs": [
        {
          "output_type": "stream",
          "name": "stdout",
          "text": [
            "The Number of cities in which Summer Olympics are held is: 22\n"
          ]
        }
      ],
      "metadata": {
        "colab": {
          "base_uri": "https://localhost:8080/"
        },
        "id": "I3R7e6zKWCuS",
        "outputId": "dd2de844-5f66-4423-871e-51625c74a5fe"
      }
    },
    {
      "cell_type": "markdown",
      "source": [
        "### 2. Which sport is having most number of Gold Medals so far? (Top 5)"
      ],
      "metadata": {}
    },
    {
      "cell_type": "code",
      "execution_count": 4,
      "source": [
        "gold_medals = []\r\n",
        "gold = DataSet[DataSet['Medal'] == \"Gold\"]\r\n",
        "for sport in DataSet['Sport'].unique():\r\n",
        "    gold_medals.append([sport, len(gold[gold['Sport'] == sport])])\r\n",
        "\r\n",
        "#Converting the gold_medals list to DataFrame\r\n",
        "\r\n",
        "display = pd.DataFrame(gold_medals, columns = ['Sports', 'Gold Medals'])\r\n",
        "top_5 = display.sort_values(by = \"Gold Medals\", ascending=False).head()\r\n",
        "\r\n",
        "#Plotting the graph\r\n",
        "print(top_5)\r\n",
        "top_5.plot(x='Sports', y='Gold Medals', kind='bar', figsize=(5, 5))\r\n"
      ],
      "outputs": [
        {
          "output_type": "stream",
          "name": "stdout",
          "text": [
            "        Sports  Gold Medals\n",
            "0     Aquatics         1421\n",
            "1    Athletics         1215\n",
            "17      Rowing          890\n",
            "4   Gymnastics          820\n",
            "3      Fencing          552\n"
          ]
        },
        {
          "output_type": "execute_result",
          "data": {
            "text/plain": [
              "<AxesSubplot:xlabel='Sports'>"
            ]
          },
          "metadata": {},
          "execution_count": 4
        },
        {
          "output_type": "display_data",
          "data": {
            "image/png": "[encoded data removed]",
            "text/plain": [
              "<Figure size 360x360 with 1 Axes>"
            ]
          },
          "metadata": {
            "needs_background": "light"
          }
        }
      ],
      "metadata": {}
    },
    {
      "cell_type": "markdown",
      "source": [
        "### 3. Which sport is having most number of medals so far? (Top 5) "
      ],
      "metadata": {}
    },
    {
      "cell_type": "code",
      "execution_count": 5,
      "source": [
        "medals = []\r\n",
        "for sport in DataSet['Sport'].unique():\r\n",
        "    medals.append([sport, len(DataSet[DataSet['Sport'] == sport])])\r\n",
        "\r\n",
        "#Converting the Medals list to DataFrame\r\n",
        "\r\n",
        "display = pd.DataFrame(medals, columns = ['Sports','Medals'])\r\n",
        "top_5 = display.sort_values(by = \"Medals\", ascending=False).head()\r\n",
        "\r\n",
        "#Plotting the graph\r\n",
        "print(top_5)\r\n",
        "top_5.plot(x='Sports', y='Medals', kind='bar', figsize=(5, 5))"
      ],
      "outputs": [
        {
          "output_type": "stream",
          "name": "stdout",
          "text": [
            "        Sports  Medals\n",
            "0     Aquatics    4170\n",
            "1    Athletics    3638\n",
            "17      Rowing    2667\n",
            "4   Gymnastics    2307\n",
            "3      Fencing    1613\n"
          ]
        },
        {
          "output_type": "execute_result",
          "data": {
            "text/plain": [
              "<AxesSubplot:xlabel='Sports'>"
            ]
          },
          "metadata": {},
          "execution_count": 5
        },
        {
          "output_type": "display_data",
          "data": {
            "image/png": "[encoded data removed]",
            "text/plain": [
              "<Figure size 360x360 with 1 Axes>"
            ]
          },
          "metadata": {
            "needs_background": "light"
          }
        }
      ],
      "metadata": {}
    },
    {
      "cell_type": "markdown",
      "source": [
        "### 4. Which player has won most number of medals? (Top 5)\r\n"
      ],
      "metadata": {}
    },
    {
      "cell_type": "code",
      "execution_count": 7,
      "source": [
        "player_medals = []\r\n",
        "names = DataSet['Athlete'].unique()\r\n",
        "for player in names:\r\n",
        "    player_medals.append([player, len(DataSet[DataSet['Athlete'] == player])])\r\n",
        "\r\n",
        "# Converting the player and their medals to DataFrame\r\n",
        "\r\n",
        "display = pd.DataFrame(player_medals, columns=[\"Player\", \"No of Medals\"])\r\n",
        "top_5 = display.sort_values(by = \"No of Medals\", ascending=False).head()\r\n",
        "\r\n",
        "#Plotting the graph\r\n",
        "print(top_5)\r\n",
        "top_5.plot(x='Player', y='No of Medals', kind='bar', figsize=(5, 5))"
      ],
      "outputs": [
        {
          "output_type": "stream",
          "name": "stdout",
          "text": [
            "                     Player  No of Medals\n",
            "18640       PHELPS, Michael            22\n",
            "7197       LATYNINA, Larisa            18\n",
            "9948     ANDRIANOV, Nikolay            15\n",
            "6591           ONO, Takashi            13\n",
            "5103   MANGIAROTTI, Edoardo            13\n"
          ]
        },
        {
          "output_type": "execute_result",
          "data": {
            "text/plain": [
              "<AxesSubplot:xlabel='Player'>"
            ]
          },
          "metadata": {},
          "execution_count": 7
        },
        {
          "output_type": "display_data",
          "data": {
            "image/png": "[encoded data removed]",
            "text/plain": [
              "<Figure size 360x360 with 1 Axes>"
            ]
          },
          "metadata": {
            "needs_background": "light"
          }
        }
      ],
      "metadata": {}
    },
    {
      "cell_type": "markdown",
      "source": [
        "### 5. Which player has won most number Gold Medals of medals? (Top 5)"
      ],
      "metadata": {}
    },
    {
      "cell_type": "code",
      "execution_count": 8,
      "source": [
        "gold_players = []\r\n",
        "goldenplayer = DataSet[DataSet['Medal'] == \"Gold\"]\r\n",
        "for player in DataSet['Athlete'].unique():\r\n",
        "    gold_players.append([player, len(goldenplayer[goldenplayer['Athlete'] == player])])\r\n",
        "\r\n",
        "# Converting the player and their medals to DataFrame\r\n",
        "\r\n",
        "display = pd.DataFrame(gold_players,columns=[\"Player\", \"No of Gold Medals\"])\r\n",
        "top_5 = display.sort_values(by=\"No of Gold Medals\", ascending=False).head()\r\n",
        "\r\n",
        "#Plotting the graph\r\n",
        "print(top_5)\r\n",
        "top_5.plot(x='Player', y='No of Gold Medals', kind='bar', figsize=(5, 5))\r\n"
      ],
      "outputs": [
        {
          "output_type": "stream",
          "name": "stdout",
          "text": [
            "                 Player  No of Gold Medals\n",
            "18640   PHELPS, Michael                 18\n",
            "12468       LEWIS, Carl                  9\n",
            "8811        SPITZ, Mark                  9\n",
            "2262       NURMI, Paavo                  9\n",
            "7197   LATYNINA, Larisa                  9\n"
          ]
        },
        {
          "output_type": "execute_result",
          "data": {
            "text/plain": [
              "<AxesSubplot:xlabel='Player'>"
            ]
          },
          "metadata": {},
          "execution_count": 8
        },
        {
          "output_type": "display_data",
          "data": {
            "image/png": "[encoded data removed]",
            "text/plain": [
              "<Figure size 360x360 with 1 Axes>"
            ]
          },
          "metadata": {
            "needs_background": "light"
          }
        }
      ],
      "metadata": {}
    },
    {
      "cell_type": "markdown",
      "source": [
        "### 6. In which year India won first Gold Medal in Summer Olympics?"
      ],
      "metadata": {}
    },
    {
      "cell_type": "code",
      "execution_count": 205,
      "source": [
        "# India_gold\r\n",
        "gold = DataSet[DataSet['Medal'] == \"Gold\"]\r\n",
        "India_Gold = gold[gold['Country'] == \"IND\"]\r\n",
        "print(\"India won the first Gold Medal in Summer Olympics in the year:\", list(India_Gold['Year'])[0])"
      ],
      "outputs": [
        {
          "output_type": "stream",
          "name": "stdout",
          "text": [
            "India won the first Gold Medal in Summer Olympics in the year: 1928\n"
          ]
        }
      ],
      "metadata": {}
    },
    {
      "cell_type": "markdown",
      "source": [
        "### 7. Which event is most popular in terms on number of players? (Top 5)"
      ],
      "metadata": {}
    },
    {
      "cell_type": "code",
      "execution_count": 6,
      "source": [
        "event_popularity=[]\r\n",
        "for event in DataSet['Event'].unique():\r\n",
        "    event_popularity.append([event, len(DataSet[DataSet['Event'] == event]['Athlete'])])\r\n",
        "\r\n",
        "# Converting the sport popularity and the no.of Atheletes to DataFrame\r\n",
        "\r\n",
        "display = pd.DataFrame(event_popularity, columns=['Event', 'Popularity'])\r\n",
        "top_5 = display.sort_values(by=\"Popularity\", ascending=False).head(5)\r\n",
        "\r\n",
        "#Plotting the graph\r\n",
        "print(top_5)\r\n",
        "top_5.plot(x='Event', y='Popularity', kind='bar', figsize=(5, 5))"
      ],
      "outputs": [
        {
          "output_type": "stream",
          "name": "stdout",
          "text": [
            "                Event  Popularity\n",
            "80           Football        1497\n",
            "176            Hockey        1422\n",
            "138  Team Competition        1147\n",
            "327        Basketball        1012\n",
            "337          Handball         973\n"
          ]
        },
        {
          "output_type": "execute_result",
          "data": {
            "text/plain": [
              "<AxesSubplot:xlabel='Event'>"
            ]
          },
          "metadata": {},
          "execution_count": 6
        },
        {
          "output_type": "display_data",
          "data": {
            "image/png": "[encoded data removed]",
            "text/plain": [
              "<Figure size 360x360 with 1 Axes>"
            ]
          },
          "metadata": {
            "needs_background": "light"
          }
        }
      ],
      "metadata": {}
    },
    {
      "cell_type": "markdown",
      "source": [
        "### 8. Which sport is having most female Gold Medalists? (Top 5)"
      ],
      "metadata": {}
    },
    {
      "cell_type": "code",
      "execution_count": 10,
      "source": [
        "gold_women = []\r\n",
        "goldenwomen = gold[gold['Gender'] == \"Women\"]\r\n",
        "for sport in DataSet['Sport'].unique():\r\n",
        "    gold_women.append([sport, len(goldenwomen[goldenwomen['Sport'] == sport])])\r\n",
        "\r\n",
        "# Converting the sport and the most female Gold Medalists to DataFrame\r\n",
        "\r\n",
        "display = pd.DataFrame(gold_women, columns=['Sport', 'No of Female Gold Medalists'])\r\n",
        "top_5 = display.sort_values(by=\"No of Female Gold Medalists\", ascending=False).head()\r\n",
        "\r\n",
        "#Plotting the graph\r\n",
        "print(top_5)\r\n",
        "top_5.plot(x='Sport', y='No of Female Gold Medalists',\r\n",
        "           kind='bar', figsize=(5, 5))\r\n"
      ],
      "outputs": [
        {
          "output_type": "stream",
          "name": "stdout",
          "text": [
            "         Sport  No of Female Gold Medalists\n",
            "0     Aquatics                          589\n",
            "1    Athletics                          389\n",
            "4   Gymnastics                          268\n",
            "17      Rowing                          217\n",
            "35  Volleyball                          166\n"
          ]
        },
        {
          "output_type": "execute_result",
          "data": {
            "text/plain": [
              "<AxesSubplot:xlabel='Sport'>"
            ]
          },
          "metadata": {},
          "execution_count": 10
        },
        {
          "output_type": "display_data",
          "data": {
            "image/png": "[encoded data removed]",
            "text/plain": [
              "<Figure size 360x360 with 1 Axes>"
            ]
          },
          "metadata": {
            "needs_background": "light"
          }
        }
      ],
      "metadata": {}
    }
  ]
}